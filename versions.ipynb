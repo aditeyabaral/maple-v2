{
 "cells": [
  {
   "cell_type": "code",
   "execution_count": 46,
   "metadata": {},
   "outputs": [],
   "source": [
    "import itertools\n",
    "import pandas as pd"
   ]
  },
  {
   "cell_type": "code",
   "execution_count": 54,
   "metadata": {},
   "outputs": [],
   "source": [
    "# token_selector_versions = [\"v1\", \"v2\"]\n",
    "\n",
    "selector_models = [\n",
    "    \"bert-base-cased\",\n",
    "    # \"roberta-base\",\n",
    "    # \"distilbert-base-cased\",\n",
    "    # \"xlm-roberta-base\",\n",
    "]\n",
    "\n",
    "selector_mode = [\n",
    "    \"whole-word\",\n",
    "    # \"token\",\n",
    "]\n",
    "\n",
    "use_selector_loss = [True, False]\n",
    "\n",
    "use_perplexity = [True, False]\n",
    "\n",
    "use_grammar_checker = [True, False]"
   ]
  },
  {
   "cell_type": "code",
   "execution_count": 55,
   "metadata": {},
   "outputs": [],
   "source": [
    "combinations = list(itertools.product(\n",
    "    selector_models,\n",
    "    #     token_selector_versions,\n",
    "    selector_mode,\n",
    "    use_selector_loss,\n",
    "    use_perplexity,\n",
    "    use_grammar_checker\n",
    "))"
   ]
  },
  {
   "cell_type": "code",
   "execution_count": 56,
   "metadata": {},
   "outputs": [],
   "source": [
    "df = pd.DataFrame(combinations, columns=[\n",
    "    \"selector_model\",\n",
    "    #     \"token_selector_version\",\n",
    "    \"selector_mode\",\n",
    "    \"use_selector_loss\",\n",
    "    \"use_perplexity\",\n",
    "    \"use_grammar_checker\"\n",
    "])"
   ]
  },
  {
   "cell_type": "code",
   "execution_count": 57,
   "metadata": {},
   "outputs": [
    {
     "data": {
      "text/plain": "    selector_model selector_mode  use_selector_loss  use_perplexity  \\\n0  bert-base-cased    whole-word               True            True   \n1  bert-base-cased    whole-word               True            True   \n2  bert-base-cased    whole-word               True           False   \n3  bert-base-cased    whole-word               True           False   \n4  bert-base-cased    whole-word              False            True   \n5  bert-base-cased    whole-word              False            True   \n6  bert-base-cased    whole-word              False           False   \n7  bert-base-cased    whole-word              False           False   \n\n   use_grammar_checker  \n0                 True  \n1                False  \n2                 True  \n3                False  \n4                 True  \n5                False  \n6                 True  \n7                False  ",
      "text/html": "<div>\n<style scoped>\n    .dataframe tbody tr th:only-of-type {\n        vertical-align: middle;\n    }\n\n    .dataframe tbody tr th {\n        vertical-align: top;\n    }\n\n    .dataframe thead th {\n        text-align: right;\n    }\n</style>\n<table border=\"1\" class=\"dataframe\">\n  <thead>\n    <tr style=\"text-align: right;\">\n      <th></th>\n      <th>selector_model</th>\n      <th>selector_mode</th>\n      <th>use_selector_loss</th>\n      <th>use_perplexity</th>\n      <th>use_grammar_checker</th>\n    </tr>\n  </thead>\n  <tbody>\n    <tr>\n      <th>0</th>\n      <td>bert-base-cased</td>\n      <td>whole-word</td>\n      <td>True</td>\n      <td>True</td>\n      <td>True</td>\n    </tr>\n    <tr>\n      <th>1</th>\n      <td>bert-base-cased</td>\n      <td>whole-word</td>\n      <td>True</td>\n      <td>True</td>\n      <td>False</td>\n    </tr>\n    <tr>\n      <th>2</th>\n      <td>bert-base-cased</td>\n      <td>whole-word</td>\n      <td>True</td>\n      <td>False</td>\n      <td>True</td>\n    </tr>\n    <tr>\n      <th>3</th>\n      <td>bert-base-cased</td>\n      <td>whole-word</td>\n      <td>True</td>\n      <td>False</td>\n      <td>False</td>\n    </tr>\n    <tr>\n      <th>4</th>\n      <td>bert-base-cased</td>\n      <td>whole-word</td>\n      <td>False</td>\n      <td>True</td>\n      <td>True</td>\n    </tr>\n    <tr>\n      <th>5</th>\n      <td>bert-base-cased</td>\n      <td>whole-word</td>\n      <td>False</td>\n      <td>True</td>\n      <td>False</td>\n    </tr>\n    <tr>\n      <th>6</th>\n      <td>bert-base-cased</td>\n      <td>whole-word</td>\n      <td>False</td>\n      <td>False</td>\n      <td>True</td>\n    </tr>\n    <tr>\n      <th>7</th>\n      <td>bert-base-cased</td>\n      <td>whole-word</td>\n      <td>False</td>\n      <td>False</td>\n      <td>False</td>\n    </tr>\n  </tbody>\n</table>\n</div>"
     },
     "execution_count": 57,
     "metadata": {},
     "output_type": "execute_result"
    }
   ],
   "source": [
    "df"
   ]
  },
  {
   "cell_type": "code",
   "execution_count": 58,
   "outputs": [],
   "source": [
    "# if use_selector_loss, use_perplexity, use_grammar_checker are all False, drop those rows\n",
    "df = df[\n",
    "    (df[\"use_selector_loss\"] == True) |\n",
    "    (df[\"use_perplexity\"] == True) |\n",
    "    (df[\"use_grammar_checker\"] == True)\n",
    "    ]"
   ],
   "metadata": {
    "collapsed": false
   }
  },
  {
   "cell_type": "code",
   "execution_count": 59,
   "metadata": {},
   "outputs": [],
   "source": [
    "# df[\"selector_mode\"][df[\"token_selector_version\"] == \"v1\"] = None\n",
    "# df.drop_duplicates(inplace=True)"
   ]
  },
  {
   "cell_type": "code",
   "execution_count": 60,
   "metadata": {},
   "outputs": [
    {
     "data": {
      "text/plain": "    selector_model selector_mode  use_selector_loss  use_perplexity  \\\n0  bert-base-cased    whole-word               True            True   \n1  bert-base-cased    whole-word               True            True   \n2  bert-base-cased    whole-word               True           False   \n3  bert-base-cased    whole-word               True           False   \n4  bert-base-cased    whole-word              False            True   \n5  bert-base-cased    whole-word              False            True   \n6  bert-base-cased    whole-word              False           False   \n\n   use_grammar_checker  \n0                 True  \n1                False  \n2                 True  \n3                False  \n4                 True  \n5                False  \n6                 True  ",
      "text/html": "<div>\n<style scoped>\n    .dataframe tbody tr th:only-of-type {\n        vertical-align: middle;\n    }\n\n    .dataframe tbody tr th {\n        vertical-align: top;\n    }\n\n    .dataframe thead th {\n        text-align: right;\n    }\n</style>\n<table border=\"1\" class=\"dataframe\">\n  <thead>\n    <tr style=\"text-align: right;\">\n      <th></th>\n      <th>selector_model</th>\n      <th>selector_mode</th>\n      <th>use_selector_loss</th>\n      <th>use_perplexity</th>\n      <th>use_grammar_checker</th>\n    </tr>\n  </thead>\n  <tbody>\n    <tr>\n      <th>0</th>\n      <td>bert-base-cased</td>\n      <td>whole-word</td>\n      <td>True</td>\n      <td>True</td>\n      <td>True</td>\n    </tr>\n    <tr>\n      <th>1</th>\n      <td>bert-base-cased</td>\n      <td>whole-word</td>\n      <td>True</td>\n      <td>True</td>\n      <td>False</td>\n    </tr>\n    <tr>\n      <th>2</th>\n      <td>bert-base-cased</td>\n      <td>whole-word</td>\n      <td>True</td>\n      <td>False</td>\n      <td>True</td>\n    </tr>\n    <tr>\n      <th>3</th>\n      <td>bert-base-cased</td>\n      <td>whole-word</td>\n      <td>True</td>\n      <td>False</td>\n      <td>False</td>\n    </tr>\n    <tr>\n      <th>4</th>\n      <td>bert-base-cased</td>\n      <td>whole-word</td>\n      <td>False</td>\n      <td>True</td>\n      <td>True</td>\n    </tr>\n    <tr>\n      <th>5</th>\n      <td>bert-base-cased</td>\n      <td>whole-word</td>\n      <td>False</td>\n      <td>True</td>\n      <td>False</td>\n    </tr>\n    <tr>\n      <th>6</th>\n      <td>bert-base-cased</td>\n      <td>whole-word</td>\n      <td>False</td>\n      <td>False</td>\n      <td>True</td>\n    </tr>\n  </tbody>\n</table>\n</div>"
     },
     "execution_count": 60,
     "metadata": {},
     "output_type": "execute_result"
    }
   ],
   "source": [
    "df"
   ]
  },
  {
   "cell_type": "code",
   "execution_count": 61,
   "metadata": {},
   "outputs": [],
   "source": [
    "df.to_excel(\"versions.xlsx\", index=False)"
   ]
  },
  {
   "cell_type": "code",
   "execution_count": null,
   "outputs": [],
   "source": [],
   "metadata": {
    "collapsed": false
   }
  }
 ],
 "metadata": {
  "kernelspec": {
   "display_name": "Python 3 (ipykernel)",
   "language": "python",
   "name": "python3"
  },
  "language_info": {
   "codemirror_mode": {
    "name": "ipython",
    "version": 3
   },
   "file_extension": ".py",
   "mimetype": "text/x-python",
   "name": "python",
   "nbconvert_exporter": "python",
   "pygments_lexer": "ipython3",
   "version": "3.10.8"
  }
 },
 "nbformat": 4,
 "nbformat_minor": 1
}
